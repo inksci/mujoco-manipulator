{
 "cells": [
  {
   "cell_type": "markdown",
   "metadata": {},
   "source": [
    "> Add Constriction for The Decrease of 'var':\n",
    "    \n",
    "            if self.var > 0.2:\n",
    "                self.var *= 0.99995"
   ]
  },
  {
   "cell_type": "code",
   "execution_count": 1,
   "metadata": {
    "collapsed": true
   },
   "outputs": [],
   "source": [
    "TRAIN = 0"
   ]
  },
  {
   "cell_type": "code",
   "execution_count": 2,
   "metadata": {},
   "outputs": [
    {
     "name": "stdout",
     "output_type": "stream",
     "text": [
      "INFO:tensorflow:Restoring parameters from ./model_path/\n"
     ]
    }
   ],
   "source": [
    "\"\"\"\n",
    "View more on the tutorial page: https://morvanzhou.github.io/tutorials/\n",
    "\"\"\"\n",
    "\n",
    "import tensorflow as tf\n",
    "import numpy as np\n",
    "import manipulator\n",
    "\n",
    "# # # reproducible\n",
    "np.random.seed(1)\n",
    "tf.set_random_seed(1)\n",
    "\n",
    "#####################  hyper parameters  ####################\n",
    "\n",
    "\n",
    "MAX_EP_STEPS = 500\n",
    "LR_A = 0.001    # learning rate for actor\n",
    "LR_C = 0.002    # learning rate for critic\n",
    "GAMMA = 0.9     # reward discount\n",
    "TAU = 0.01      # soft replacement\n",
    "MEMORY_CAPACITY = 10000\n",
    "BATCH_SIZE = 32\n",
    "\n",
    "RENDER = False\n",
    "\n",
    "###############################  DDPG  ####################################\n",
    "\n",
    "class DDPG(object):\n",
    "    def __init__(self, a_dim, s_dim, a_bound,):\n",
    "        self.memory = np.zeros((MEMORY_CAPACITY, s_dim * 2 + a_dim + 1), dtype=np.float32)\n",
    "        self.pointer = 0\n",
    "        self.sess = tf.Session()\n",
    "                \n",
    "        if TRAIN:\n",
    "            self.var = 3.0\n",
    "        else:\n",
    "            self.var = 0.0        \n",
    "            \n",
    "#         self.mean = np.array([0.]*26, dtype=np.float32)\n",
    "        \n",
    "#         self.std = np.array([1.]*26, dtype=np.float32)    \n",
    "        \n",
    "#         self.sum_ai2 = np.array([0.]*26, dtype=np.float32)\n",
    "\n",
    "#         self.mean = np.array( [0.34834658743584485, -0.6318716911473438, -0.5661514854517639, 0.07621472819056746, 0.028013053053513273, 0.20609833036457584, \n",
    "#         -0.3062108267781698, -0.3024539663611043, 0.06093039756831196, 0.033963509642047904, 0.04108029979757066, -0.06115245273286279, \n",
    "#         -0.057278341082980654, -0.01868992182555732, 0.016859964070466027, -0.20114772570077774, 0.4842639725240364, -0.8196236115959136, \n",
    "#         -0.7503603561777605, -0.061486437144056924, 0.07334224875503308, 0.22888182549791716, -0.4030543421278879, -0.36736219691606675, \n",
    "#         -0.03777272967640111, 0.059554004128217874] )\n",
    "#         self.std = np.array( [0.802520082706222, 0.4618768626366726, 0.5814252385481398, 0.9310726271789103, 0.9588982301233124, \n",
    "#         0.5896576086242203, 0.5318602082562012, 0.5521094460520812, 0.668038191808423, 0.6829795959253061, 0.16029570691706538, 0.16024717414553674, \n",
    "#         0.1631756828059499, 0.16218674224861002, 0.1620384051283602, 0.07192591718283593, 0.7040880395342896, 0.4223013893411566, 0.5288619487888918, \n",
    "#         0.8427154097305507, 0.8778329454814024, 0.3436760212947522, 0.3000819712667782, 0.3300498255881239, 0.4264838047763872, 0.42893611608961796] )\n",
    "\n",
    "        \n",
    "        self.a_dim, self.s_dim, self.a_bound = a_dim, s_dim, a_bound,\n",
    "        self.S = tf.placeholder(tf.float32, [None, s_dim], 's')\n",
    "        self.S_ = tf.placeholder(tf.float32, [None, s_dim], 's_')\n",
    "        self.R = tf.placeholder(tf.float32, [None, 1], 'r')\n",
    "\n",
    "        with tf.variable_scope('Actor'):\n",
    "            self.a = self.build_a_nn(self.S, scope='eval', trainable=True)\n",
    "            a_ = self.build_a_nn(self.S_, scope='target', trainable=True)\n",
    "        with tf.variable_scope('Critic'):\n",
    "            # assign self.a = a in memory when calculating q for td_error,\n",
    "            # otherwise the self.a is from Actor when updating Actor\n",
    "            q = self.build_c_nn(self.S, self.a, scope='eval', trainable=True)\n",
    "            q_ = self.build_c_nn(self.S_, a_, scope='target', trainable=True)\n",
    "\n",
    "        # networks parameters\n",
    "        self.ae_params = tf.get_collection(tf.GraphKeys.GLOBAL_VARIABLES, scope='Actor/eval')\n",
    "        self.at_params = tf.get_collection(tf.GraphKeys.GLOBAL_VARIABLES, scope='Actor/target')\n",
    "        self.ce_params = tf.get_collection(tf.GraphKeys.GLOBAL_VARIABLES, scope='Critic/eval')\n",
    "        self.ct_params = tf.get_collection(tf.GraphKeys.GLOBAL_VARIABLES, scope='Critic/target')\n",
    "\n",
    "        # target net replacement\n",
    "        self.soft_replace = [[tf.assign(at, (1-TAU)*at+TAU*ae), tf.assign(ct, (1-TAU)*ct+TAU*ce)]\n",
    "            for at, ae, ct, ce in zip(self.at_params, self.ae_params, self.ct_params, self.ce_params)]\n",
    "\n",
    "        q_target = self.R + GAMMA * q_\n",
    "        # in the feed_dic for the td_error, the self.a should change to actions in memory\n",
    "        td_error = tf.losses.mean_squared_error(labels=(self.R + GAMMA * q_), predictions=q)\n",
    "        \n",
    "        self.ctrain = tf.train.AdamOptimizer(LR_C).minimize(td_error, name=\"adam-ink\", var_list = self.ce_params)\n",
    "\n",
    "        a_loss = - tf.reduce_mean(q)    # maximize the q\n",
    "        \n",
    "        self.atrain = tf.train.AdamOptimizer(LR_A).minimize(a_loss, var_list=self.ae_params)\n",
    "\n",
    "        tf.summary.FileWriter(\"logs/\", self.sess.graph)\n",
    "        \n",
    "        self.saver = tf.train.Saver()\n",
    "        self.model_path = \"./model_path/\"\n",
    "        \n",
    "        if TRAIN:\n",
    "            self.sess.run(tf.global_variables_initializer())\n",
    "        else:\n",
    "            load_path = self.saver.restore(self.sess, self.model_path)\n",
    "\n",
    "    def choose_action(self, s):\n",
    "        \n",
    "#         self.mean = np.array([-0.30596643686294556, 0.6531972885131836, 0.07150639593601227, \n",
    "#                              -0.4814097285270691, -0.9779564738273621, -0.1355571746826172, \n",
    "#         0.361149400472641, 0.1673995554447174, -0.33002352714538574, -0.4877714216709137, -0.3059367537498474, 0.6378231644630432, \n",
    "#         0.1766030341386795, -0.7159786820411682, -0.9878270626068115, 0.19998057186603546, -0.19998057186603546, 0.09049104899168015, \n",
    "#         -0.052024029195308685, 0.12978997826576233, 0.02930569089949131, -0.1457349807024002, -0.1941746175289154, -0.19394275546073914, \n",
    "#         -0.3071609139442444, 0.654149055480957, 0.07036503404378891, -0.4808672368526459, -0.9798941612243652, -0.13617150485515594, \n",
    "#         0.3624577522277832, 0.1675402969121933, -0.33098533749580383, -0.4897313117980957, -0.3071301579475403, 0.6387059688568115, \n",
    "#         0.17597635090351105, -0.7166529297828674, -0.989827036857605, 0.19998057186603546, \n",
    "#                              -0.19998057186603546, 0.09049104899168015] , dtype=np.float32)\n",
    "        \n",
    "#         self.std = np.array([0.8033351898193359, 0.5680350065231323, 0.8028296232223511, \n",
    "#                             0.789441704750061, 0.08707397431135178, 0.40394535660743713, \n",
    "#         0.28473415970802307, 0.34262776374816895, 0.3564625084400177, 0.2858351767063141, 0.8037617206573486, 0.5734468102455139, \n",
    "#         0.856696605682373, 0.6527989506721497, 0.08459825068712234, 1.9432218323345296e-05, 1.9432218323345296e-05, 0.028779448941349983, \n",
    "#         0.16029109060764313, 0.11157218366861343, 0.17511923611164093, 0.13185659050941467, 0.05517452210187912, 0.05518483370542526, \n",
    "#         0.8039249181747437, 0.568067729473114, 0.8037550449371338, 0.7909086346626282, 0.07530832290649414, 0.4052116870880127, \n",
    "#         0.2851526737213135, 0.3434385359287262, 0.3570743203163147, 0.2858463227748871, 0.8042926788330078, 0.5735509395599365, \n",
    "#         0.8577484488487244, 0.6535053253173828, 0.07212276011705399, 1.9432218323345296e-05, \n",
    "#                             1.9432218323345296e-05, 0.028779448941349983], dtype=np.float32)    \n",
    "\n",
    "\n",
    "\n",
    "\n",
    "#         if TRAIN & ( self.pointer < MEMORY_CAPACITY ):\n",
    "#             return np.clip(np.random.normal([0.]*self.a_dim, self.var), -0.2, 0.2)\n",
    "#         print(\"s 9357: \", s)\n",
    "    \n",
    "#         s -= self.mean[:self.s_dim]\n",
    "#         s /= self.std[:self.s_dim]\n",
    "\n",
    "#         s *= 10.0\n",
    "#         print(\"s 8475: \", s)\n",
    "        a = self.sess.run(self.a, {self.S: s[np.newaxis, :]})[0]\n",
    "#         a = np.clip(np.random.normal(a, self.var), -0.2, 0.2)\n",
    "\n",
    "#         a *= self.std[self.s_dim: self.s_dim + self.a_dim]\n",
    "#         a += self.mean[self.s_dim: self.s_dim + self.a_dim]\n",
    "        \n",
    "#         a /= 10.0\n",
    "#         print(\"a 2634: \", a)\n",
    "        a = np.clip(np.random.normal(a, self.var), -2, 2)\n",
    "#         print(\"a 2844: \", a)\n",
    "        return a\n",
    "\n",
    "    def learn(self):\n",
    "        # soft target replacement\n",
    "        self.sess.run(self.soft_replace)\n",
    "\n",
    "        indices = np.random.choice(MEMORY_CAPACITY, size=BATCH_SIZE)\n",
    "        bt = self.memory[indices, :]\n",
    "        bs = bt[:, :self.s_dim]\n",
    "        ba = bt[:, self.s_dim: self.s_dim + self.a_dim]\n",
    "        br = bt[:, -self.s_dim - 1: -self.s_dim]\n",
    "        bs_ = bt[:, -self.s_dim:]\n",
    "\n",
    "        self.sess.run(self.ctrain, {self.S: bs, self.a: ba, self.R: br, self.S_: bs_})\n",
    "        self.sess.run(self.atrain, {self.S: bs, self.S_: bs_})\n",
    "\n",
    "    def store_transition(self, s, a, r, s_):\n",
    "\n",
    "        trans = np.hstack((s,a,[r],s_))\n",
    "        \n",
    "#         self.mean = (self.mean*self.pointer + trans)/(self.pointer+1)\n",
    "#         self.sum_ai2 += trans**2\n",
    "#         self.std = np.sqrt( ( self.sum_ai2 -(self.pointer+1)*self.mean**2 )/(self.pointer+1) )\n",
    "\n",
    "#         self.mean = np.array([-0.30596643686294556, 0.6531972885131836, 0.07150639593601227, \n",
    "#                              -0.4814097285270691, -0.9779564738273621, -0.1355571746826172, \n",
    "#         0.361149400472641, 0.1673995554447174, -0.33002352714538574, -0.4877714216709137, -0.3059367537498474, 0.6378231644630432, \n",
    "#         0.1766030341386795, -0.7159786820411682, -0.9878270626068115, 0.19998057186603546, -0.19998057186603546, 0.09049104899168015, \n",
    "#         -0.052024029195308685, 0.12978997826576233, 0.02930569089949131, -0.1457349807024002, -0.1941746175289154, -0.19394275546073914, \n",
    "#         -0.3071609139442444, 0.654149055480957, 0.07036503404378891, -0.4808672368526459, -0.9798941612243652, -0.13617150485515594, \n",
    "#         0.3624577522277832, 0.1675402969121933, -0.33098533749580383, -0.4897313117980957, -0.3071301579475403, 0.6387059688568115, \n",
    "#         0.17597635090351105, -0.7166529297828674, -0.989827036857605, 0.19998057186603546, \n",
    "#                              -0.19998057186603546, 0.09049104899168015] , dtype=np.float32)\n",
    "        \n",
    "#         self.std = np.array([0.8033351898193359, 0.5680350065231323, 0.8028296232223511, \n",
    "#                             0.789441704750061, 0.08707397431135178, 0.40394535660743713, \n",
    "#         0.28473415970802307, 0.34262776374816895, 0.3564625084400177, 0.2858351767063141, 0.8037617206573486, 0.5734468102455139, \n",
    "#         0.856696605682373, 0.6527989506721497, 0.08459825068712234, 1.9432218323345296e-05, 1.9432218323345296e-05, 0.028779448941349983, \n",
    "#         0.16029109060764313, 0.11157218366861343, 0.17511923611164093, 0.13185659050941467, 0.05517452210187912, 0.05518483370542526, \n",
    "#         0.8039249181747437, 0.568067729473114, 0.8037550449371338, 0.7909086346626282, 0.07530832290649414, 0.4052116870880127, \n",
    "#         0.2851526737213135, 0.3434385359287262, 0.3570743203163147, 0.2858463227748871, 0.8042926788330078, 0.5735509395599365, \n",
    "#         0.8577484488487244, 0.6535053253173828, 0.07212276011705399, 1.9432218323345296e-05, \n",
    "#                             1.9432218323345296e-05, 0.028779448941349983], dtype=np.float32)    \n",
    "        \n",
    "#         trans -= self.mean\n",
    "#         trans /= self.std\n",
    "        \n",
    "#         trans *= 10.0\n",
    "        \n",
    "        # print(\"trans: \", trans)\n",
    "        index = self.pointer % MEMORY_CAPACITY\n",
    "        self.memory[index, :] = trans\n",
    "        self.pointer += 1\n",
    "        \n",
    "        if TRAIN & ( self.pointer > MEMORY_CAPACITY ):\n",
    "            if self.var > 0.2:\n",
    "                self.var *= 0.99995\n",
    "            self.learn()\n",
    "    def build_a_nn(self, s, scope, trainable):\n",
    "        # Actor DPG\n",
    "        with tf.variable_scope(scope):\n",
    "            s_norm = s# tf.layers.batch_normalization(s, training=self.is_training)\n",
    "            l1 = tf.layers.dense(s_norm, 30, activation = tf.nn.tanh, name = 'l1', trainable = trainable)\n",
    "            a = tf.layers.dense(l1, self.a_dim, activation = tf.nn.tanh, name = 'a', trainable = trainable)     \n",
    "            return tf.multiply(a, self.a_bound, name = \"scaled_a\")  \n",
    "    def build_c_nn(self, s, a, scope, trainable):\n",
    "        # Critic Q-leaning\n",
    "        with tf.variable_scope(scope):\n",
    "            n_l1 = 30\n",
    "            w1_s = tf.get_variable('w1_s', [self.s_dim, n_l1], trainable = trainable)\n",
    "            w1_a = tf.get_variable('w1_a', [self.a_dim, n_l1], trainable = trainable)\n",
    "            b1 = tf.get_variable('b1', [1, n_l1], trainable = trainable)\n",
    "            \n",
    "            s_norm = s# tf.layers.batch_normalization(s, training=self.is_training)\n",
    "            a_norm = a# tf.layers.batch_normalization(a, training=self.is_training)\n",
    "            \n",
    "            linear_output = tf.matmul(s_norm, w1_s) + tf.matmul(a_norm, w1_a) + b1    \n",
    "    \n",
    "            net = tf.nn.tanh( linear_output )\n",
    "\n",
    "            q = tf.layers.dense(net, 1, trainable = trainable)\n",
    "            return q\n",
    "\n",
    "    \n",
    "###############################  training  ####################################\n",
    "\n",
    "env = manipulator.manipulator()\n",
    "\n",
    "s_dim = env.state_dim\n",
    "a_dim = env.action_dim\n",
    "a_bound = 0.2\n",
    "\n",
    "ddpg = DDPG(a_dim, s_dim, a_bound)\n",
    "\n",
    "r_save = []"
   ]
  },
  {
   "cell_type": "code",
   "execution_count": 3,
   "metadata": {
    "collapsed": true
   },
   "outputs": [],
   "source": [
    "MAX_EPISODES = 10000"
   ]
  },
  {
   "cell_type": "code",
   "execution_count": 4,
   "metadata": {
    "scrolled": true
   },
   "outputs": [
    {
     "name": "stdout",
     "output_type": "stream",
     "text": [
      "i:  0\n",
      "Creating window glfw\n",
      "dis:  0.00666951068018\n",
      "Episode: 0  Reward: -41 Explore: 0.00\n",
      "i:  1\n",
      "Creating window glfw\n",
      "dis:  0.010163336034\n",
      "Episode: 1  Reward: -42 Explore: 0.00\n",
      "i:  2\n",
      "Creating window glfw\n",
      "dis:  0.00693891787167\n",
      "Episode: 2  Reward: -41 Explore: 0.00\n",
      "i:  3\n",
      "Creating window glfw\n",
      "dis:  0.0102081669216\n",
      "Episode: 3  Reward: -42 Explore: 0.00\n",
      "i:  4\n",
      "Creating window glfw\n",
      "dis:  0.00352303395703\n",
      "Episode: 4  Reward: -40 Explore: 0.00\n",
      "i:  5\n",
      "Creating window glfw\n",
      "dis:  0.01051099961\n",
      "Episode: 5  Reward: -42 Explore: 0.00\n",
      "i:  6\n",
      "Creating window glfw\n",
      "dis:  0.00559501091614\n",
      "Episode: 6  Reward: -40 Explore: 0.00\n",
      "i:  7\n",
      "Creating window glfw\n",
      "dis:  0.00799416525617\n",
      "Episode: 7  Reward: -41 Explore: 0.00\n",
      "i:  8\n",
      "Creating window glfw\n",
      "dis:  0.00661133046591\n",
      "Episode: 8  Reward: -41 Explore: 0.00\n",
      "i:  9\n",
      "Creating window glfw\n",
      "dis:  0.0110152814071\n",
      "Episode: 9  Reward: -42 Explore: 0.00\n",
      "i:  10\n",
      "Creating window glfw\n"
     ]
    },
    {
     "ename": "KeyboardInterrupt",
     "evalue": "",
     "output_type": "error",
     "traceback": [
      "\u001b[1;31m---------------------------------------------------------------------------\u001b[0m",
      "\u001b[1;31mKeyboardInterrupt\u001b[0m                         Traceback (most recent call last)",
      "\u001b[1;32m<ipython-input-4-101dfe0e47d2>\u001b[0m in \u001b[0;36m<module>\u001b[1;34m()\u001b[0m\n\u001b[0;32m      1\u001b[0m \u001b[1;32mfor\u001b[0m \u001b[0mi\u001b[0m \u001b[1;32min\u001b[0m \u001b[0mrange\u001b[0m\u001b[1;33m(\u001b[0m\u001b[0mMAX_EPISODES\u001b[0m\u001b[1;33m)\u001b[0m\u001b[1;33m:\u001b[0m\u001b[1;33m\u001b[0m\u001b[0m\n\u001b[0;32m      2\u001b[0m     \u001b[0mprint\u001b[0m\u001b[1;33m(\u001b[0m\u001b[1;34m\"i: \"\u001b[0m\u001b[1;33m,\u001b[0m \u001b[0mi\u001b[0m\u001b[1;33m)\u001b[0m\u001b[1;33m\u001b[0m\u001b[0m\n\u001b[1;32m----> 3\u001b[1;33m     \u001b[0ms\u001b[0m \u001b[1;33m=\u001b[0m \u001b[0menv\u001b[0m\u001b[1;33m.\u001b[0m\u001b[0mreset\u001b[0m\u001b[1;33m(\u001b[0m\u001b[1;33m)\u001b[0m\u001b[1;33m\u001b[0m\u001b[0m\n\u001b[0m\u001b[0;32m      4\u001b[0m     \u001b[0mep_reward\u001b[0m \u001b[1;33m=\u001b[0m \u001b[1;36m0\u001b[0m\u001b[1;33m\u001b[0m\u001b[0m\n\u001b[0;32m      5\u001b[0m     \u001b[1;32mfor\u001b[0m \u001b[0mj\u001b[0m \u001b[1;32min\u001b[0m \u001b[0mrange\u001b[0m\u001b[1;33m(\u001b[0m\u001b[0mMAX_EP_STEPS\u001b[0m\u001b[1;33m)\u001b[0m\u001b[1;33m:\u001b[0m\u001b[1;33m\u001b[0m\u001b[0m\n",
      "\u001b[1;32m~\\Downloads\\github\\mujoco-manipulator-V2\\manipulator-py\\manipulator.py\u001b[0m in \u001b[0;36mreset\u001b[1;34m(self)\u001b[0m\n\u001b[0;32m     19\u001b[0m                 \u001b[0mself\u001b[0m\u001b[1;33m.\u001b[0m\u001b[0mrz\u001b[0m \u001b[1;33m=\u001b[0m \u001b[0mnp\u001b[0m\u001b[1;33m.\u001b[0m\u001b[0mrandom\u001b[0m\u001b[1;33m.\u001b[0m\u001b[0mrand\u001b[0m\u001b[1;33m(\u001b[0m\u001b[1;33m)\u001b[0m\u001b[1;33m*\u001b[0m\u001b[1;36m0.1\u001b[0m\u001b[1;33m+\u001b[0m\u001b[1;36m0.05\u001b[0m\u001b[1;33m\u001b[0m\u001b[0m\n\u001b[0;32m     20\u001b[0m                 \u001b[0mself\u001b[0m\u001b[1;33m.\u001b[0m\u001b[0msim\u001b[0m \u001b[1;33m=\u001b[0m \u001b[0mMjSim\u001b[0m\u001b[1;33m(\u001b[0m\u001b[0mself\u001b[0m\u001b[1;33m.\u001b[0m\u001b[0mmodel\u001b[0m\u001b[1;33m)\u001b[0m\u001b[1;33m\u001b[0m\u001b[0m\n\u001b[1;32m---> 21\u001b[1;33m                 \u001b[1;32mif\u001b[0m \u001b[0mself\u001b[0m\u001b[1;33m.\u001b[0m\u001b[0mis_render\u001b[0m\u001b[1;33m:\u001b[0m \u001b[0mself\u001b[0m\u001b[1;33m.\u001b[0m\u001b[0mviewer\u001b[0m \u001b[1;33m=\u001b[0m \u001b[0mMjViewer\u001b[0m\u001b[1;33m(\u001b[0m\u001b[0mself\u001b[0m\u001b[1;33m.\u001b[0m\u001b[0msim\u001b[0m\u001b[1;33m)\u001b[0m\u001b[1;33m\u001b[0m\u001b[0m\n\u001b[0m\u001b[0;32m     22\u001b[0m                 \u001b[0mself\u001b[0m\u001b[1;33m.\u001b[0m\u001b[0mqvel\u001b[0m\u001b[1;33m=\u001b[0m\u001b[0mnp\u001b[0m\u001b[1;33m.\u001b[0m\u001b[0mzeros\u001b[0m\u001b[1;33m(\u001b[0m\u001b[1;36m9\u001b[0m\u001b[1;33m)\u001b[0m\u001b[1;33m\u001b[0m\u001b[0m\n\u001b[0;32m     23\u001b[0m \u001b[1;33m\u001b[0m\u001b[0m\n",
      "\u001b[1;32mc:\\users\\inksci\\downloads\\github\\mujoco-py-master\\mujoco_py\\mjviewer.py\u001b[0m in \u001b[0;36m__init__\u001b[1;34m(self, sim)\u001b[0m\n\u001b[0;32m    131\u001b[0m \u001b[1;33m\u001b[0m\u001b[0m\n\u001b[0;32m    132\u001b[0m     \u001b[1;32mdef\u001b[0m \u001b[0m__init__\u001b[0m\u001b[1;33m(\u001b[0m\u001b[0mself\u001b[0m\u001b[1;33m,\u001b[0m \u001b[0msim\u001b[0m\u001b[1;33m)\u001b[0m\u001b[1;33m:\u001b[0m\u001b[1;33m\u001b[0m\u001b[0m\n\u001b[1;32m--> 133\u001b[1;33m         \u001b[0msuper\u001b[0m\u001b[1;33m(\u001b[0m\u001b[1;33m)\u001b[0m\u001b[1;33m.\u001b[0m\u001b[0m__init__\u001b[0m\u001b[1;33m(\u001b[0m\u001b[0msim\u001b[0m\u001b[1;33m)\u001b[0m\u001b[1;33m\u001b[0m\u001b[0m\n\u001b[0m\u001b[0;32m    134\u001b[0m \u001b[1;33m\u001b[0m\u001b[0m\n\u001b[0;32m    135\u001b[0m         \u001b[0mself\u001b[0m\u001b[1;33m.\u001b[0m\u001b[0m_ncam\u001b[0m \u001b[1;33m=\u001b[0m \u001b[0msim\u001b[0m\u001b[1;33m.\u001b[0m\u001b[0mmodel\u001b[0m\u001b[1;33m.\u001b[0m\u001b[0mncam\u001b[0m\u001b[1;33m\u001b[0m\u001b[0m\n",
      "\u001b[1;32mc:\\users\\inksci\\downloads\\github\\mujoco-py-master\\mujoco_py\\mjviewer.py\u001b[0m in \u001b[0;36m__init__\u001b[1;34m(self, sim)\u001b[0m\n\u001b[0;32m     24\u001b[0m \u001b[1;33m\u001b[0m\u001b[0m\n\u001b[0;32m     25\u001b[0m     \u001b[1;32mdef\u001b[0m \u001b[0m__init__\u001b[0m\u001b[1;33m(\u001b[0m\u001b[0mself\u001b[0m\u001b[1;33m,\u001b[0m \u001b[0msim\u001b[0m\u001b[1;33m)\u001b[0m\u001b[1;33m:\u001b[0m\u001b[1;33m\u001b[0m\u001b[0m\n\u001b[1;32m---> 26\u001b[1;33m         \u001b[0msuper\u001b[0m\u001b[1;33m(\u001b[0m\u001b[1;33m)\u001b[0m\u001b[1;33m.\u001b[0m\u001b[0m__init__\u001b[0m\u001b[1;33m(\u001b[0m\u001b[0msim\u001b[0m\u001b[1;33m)\u001b[0m\u001b[1;33m\u001b[0m\u001b[0m\n\u001b[0m\u001b[0;32m     27\u001b[0m \u001b[1;33m\u001b[0m\u001b[0m\n\u001b[0;32m     28\u001b[0m         \u001b[0mself\u001b[0m\u001b[1;33m.\u001b[0m\u001b[0m_gui_lock\u001b[0m \u001b[1;33m=\u001b[0m \u001b[0mLock\u001b[0m\u001b[1;33m(\u001b[0m\u001b[1;33m)\u001b[0m\u001b[1;33m\u001b[0m\u001b[0m\n",
      "\u001b[1;32mmjrendercontext.pyx\u001b[0m in \u001b[0;36mmujoco_py.cymj.MjRenderContextWindow.__init__\u001b[1;34m()\u001b[0m\n",
      "\u001b[1;32mmjrendercontext.pyx\u001b[0m in \u001b[0;36mmujoco_py.cymj.MjRenderContext.__init__\u001b[1;34m()\u001b[0m\n",
      "\u001b[1;32mmjrendercontext.pyx\u001b[0m in \u001b[0;36mmujoco_py.cymj.MjRenderContext._setup_opengl_context\u001b[1;34m()\u001b[0m\n",
      "\u001b[1;32mopengl_context.pyx\u001b[0m in \u001b[0;36mmujoco_py.cymj.GlfwContext.__init__\u001b[1;34m()\u001b[0m\n",
      "\u001b[1;32mopengl_context.pyx\u001b[0m in \u001b[0;36mmujoco_py.cymj.GlfwContext._create_window\u001b[1;34m()\u001b[0m\n",
      "\u001b[1;32mD:\\Miniconda3\\envs\\py3-win-mujoco\\lib\\site-packages\\glfw.py\u001b[0m in \u001b[0;36mcreate_window\u001b[1;34m(width, height, title, monitor, share)\u001b[0m\n\u001b[0;32m    992\u001b[0m     \"\"\"\n\u001b[0;32m    993\u001b[0m     return _glfw.glfwCreateWindow(width, height, _to_char_p(title),\n\u001b[1;32m--> 994\u001b[1;33m                                   monitor, share)\n\u001b[0m\u001b[0;32m    995\u001b[0m \u001b[1;33m\u001b[0m\u001b[0m\n\u001b[0;32m    996\u001b[0m \u001b[0m_glfw\u001b[0m\u001b[1;33m.\u001b[0m\u001b[0mglfwDestroyWindow\u001b[0m\u001b[1;33m.\u001b[0m\u001b[0mrestype\u001b[0m \u001b[1;33m=\u001b[0m \u001b[1;32mNone\u001b[0m\u001b[1;33m\u001b[0m\u001b[0m\n",
      "\u001b[1;32mD:\\Miniconda3\\envs\\py3-win-mujoco\\lib\\site-packages\\glfw.py\u001b[0m in \u001b[0;36merrcheck\u001b[1;34m(result, *args)\u001b[0m\n\u001b[0;32m    610\u001b[0m     \u001b[0musing\u001b[0m \u001b[0mthe\u001b[0m \u001b[0m_callback_exception_decorator\u001b[0m\u001b[1;33m.\u001b[0m\u001b[1;33m\u001b[0m\u001b[0m\n\u001b[0;32m    611\u001b[0m     \"\"\"\n\u001b[1;32m--> 612\u001b[1;33m     \u001b[1;32mdef\u001b[0m \u001b[0merrcheck\u001b[0m\u001b[1;33m(\u001b[0m\u001b[0mresult\u001b[0m\u001b[1;33m,\u001b[0m \u001b[1;33m*\u001b[0m\u001b[0margs\u001b[0m\u001b[1;33m)\u001b[0m\u001b[1;33m:\u001b[0m\u001b[1;33m\u001b[0m\u001b[0m\n\u001b[0m\u001b[0;32m    613\u001b[0m         \u001b[1;32mglobal\u001b[0m \u001b[0m_exc_info_from_callback\u001b[0m\u001b[1;33m\u001b[0m\u001b[0m\n\u001b[0;32m    614\u001b[0m         \u001b[1;32mif\u001b[0m \u001b[0m_exc_info_from_callback\u001b[0m \u001b[1;32mis\u001b[0m \u001b[1;32mnot\u001b[0m \u001b[1;32mNone\u001b[0m\u001b[1;33m:\u001b[0m\u001b[1;33m\u001b[0m\u001b[0m\n",
      "\u001b[1;31mKeyboardInterrupt\u001b[0m: "
     ]
    }
   ],
   "source": [
    "for i in range(MAX_EPISODES):\n",
    "    print(\"i: \", i)\n",
    "    s = env.reset()\n",
    "    ep_reward = 0\n",
    "    for j in range(MAX_EP_STEPS):\n",
    "        if RENDER:\n",
    "            env.render()\n",
    "\n",
    "        # Add exploration noise\n",
    "        a = ddpg.choose_action(s)\n",
    "        \n",
    "        # print(\"a: \", a)\n",
    "        s_, r, done, info = env.step(a)\n",
    "        # print(\"r: \", r)\n",
    "        ddpg.store_transition(s, a, r, s_)\n",
    "\n",
    "        s = s_\n",
    "        ep_reward += r\n",
    "        \n",
    "        if j == MAX_EP_STEPS-1:\n",
    "            print(\"dis: \", -r)\n",
    "            r_save.append(ep_reward)\n",
    "            print('Episode:', i, ' Reward: %i' % int(ep_reward), 'Explore: %.2f' % ddpg.var, )\n",
    "            break\n"
   ]
  },
  {
   "cell_type": "markdown",
   "metadata": {},
   "source": [
    "np.save(\"memory-action_dim5-norm\", ddpg.memory)"
   ]
  },
  {
   "cell_type": "code",
   "execution_count": 12,
   "metadata": {
    "collapsed": true
   },
   "outputs": [],
   "source": [
    "import numpy as np\n",
    "\n",
    "%matplotlib inline\n",
    "import matplotlib.pyplot as plt"
   ]
  },
  {
   "cell_type": "code",
   "execution_count": 13,
   "metadata": {
    "collapsed": true
   },
   "outputs": [],
   "source": [
    "all_reward = r_save[:]"
   ]
  },
  {
   "cell_type": "code",
   "execution_count": 14,
   "metadata": {},
   "outputs": [
    {
     "data": {
      "image/png": "[encoded data removed]",
      "text/plain": [
       "<matplotlib.figure.Figure at 0x7f2b5801dac8>"
      ]
     },
     "metadata": {},
     "output_type": "display_data"
    }
   ],
   "source": [
    "fig = plt.figure()\n",
    "ax = fig.add_subplot(111)\n",
    "# ax.plot([1, 2, 3, 4], [10, 20, 25, 30], color='lightblue', linewidth=3) # plot line\n",
    "ax.scatter(range(len(all_reward)), all_reward, color='green', marker='^') # plot points\n",
    "ax.set_xlim(0, 300)\n",
    "plt.show()"
   ]
  },
  {
   "cell_type": "code",
   "execution_count": 7,
   "metadata": {},
   "outputs": [
    {
     "data": {
      "image/png": "[encoded data removed]",
      "text/plain": [
       "<matplotlib.figure.Figure at 0x7f8cb61fc7f0>"
      ]
     },
     "metadata": {},
     "output_type": "display_data"
    }
   ],
   "source": [
    "fig = plt.figure()\n",
    "ax = fig.add_subplot(111)\n",
    "# ax.plot([1, 2, 3, 4], [10, 20, 25, 30], color='lightblue', linewidth=3) # plot line\n",
    "ax.scatter(range(len(all_reward)), all_reward, color='green', marker='^') # plot points\n",
    "ax.set_xlim(0, 300)\n",
    "plt.show()"
   ]
  },
  {
   "cell_type": "code",
   "execution_count": 17,
   "metadata": {
    "collapsed": true
   },
   "outputs": [],
   "source": [
    "save_path = ddpg.saver.save(ddpg.sess, ddpg.model_path)"
   ]
  },
  {
   "cell_type": "markdown",
   "metadata": {},
   "source": [
    "### Skill Notes for Code:\n",
    "\n",
    "    saver = tf.train.Saver()\n",
    "    model_path = \"./model_path/\"\n",
    "    save_path = saver.save(ddpg.sess, model_path)\n",
    "    load_path = saver.restore(ddpg.sess, model_path)"
   ]
  }
 ],
 "metadata": {
  "kernelspec": {
   "display_name": "Python 3",
   "language": "python",
   "name": "python3"
  },
  "language_info": {
   "codemirror_mode": {
    "name": "ipython",
    "version": 3
   },
   "file_extension": ".py",
   "mimetype": "text/x-python",
   "name": "python",
   "nbconvert_exporter": "python",
   "pygments_lexer": "ipython3",
   "version": "3.5.2"
  }
 },
 "nbformat": 4,
 "nbformat_minor": 2
}
