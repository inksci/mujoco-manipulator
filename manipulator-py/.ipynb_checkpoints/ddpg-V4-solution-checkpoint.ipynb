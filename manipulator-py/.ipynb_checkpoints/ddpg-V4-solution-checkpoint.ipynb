{
 "cells": [
  {
   "cell_type": "code",
   "execution_count": 1,
   "metadata": {},
   "outputs": [],
   "source": [
    "TRAIN = 1"
   ]
  },
  {
   "cell_type": "code",
   "execution_count": 2,
   "metadata": {},
   "outputs": [],
   "source": [
    "\"\"\"\n",
    "View more on the tutorial page: https://morvanzhou.github.io/tutorials/\n",
    "\"\"\"\n",
    "\n",
    "import tensorflow as tf\n",
    "import numpy as np\n",
    "import manipulator\n",
    "\n",
    "# reproducible\n",
    "# np.random.seed(1)\n",
    "# tf.set_random_seed(1)\n",
    "#####################  hyper parameters  ####################\n",
    "\n",
    "\n",
    "MAX_EP_STEPS = 500\n",
    "LR_A = 0.001    # learning rate for actor\n",
    "LR_C = 0.002    # learning rate for critic\n",
    "GAMMA = 0.9     # reward discount\n",
    "TAU = 0.01      # soft replacement\n",
    "MEMORY_CAPACITY = 10000\n",
    "BATCH_SIZE = 32\n",
    "\n",
    "RENDER = False\n",
    "\n",
    "###############################  DDPG  ####################################\n",
    "\n",
    "class DDPG(object):\n",
    "    def __init__(self, a_dim, s_dim, a_bound,):\n",
    "        self.memory = np.zeros((MEMORY_CAPACITY, s_dim * 2 + a_dim + 1), dtype=np.float32)\n",
    "        self.pointer = 0\n",
    "        self.sess = tf.Session()\n",
    "        \n",
    "        if TRAIN:\n",
    "            self.var = 3.0\n",
    "        else:\n",
    "            self.var = 0.0\n",
    "        # self.a_replace_counter, self.c_replace_counter = 0, 0\n",
    "\n",
    "        \n",
    "# #         Batch normalization needs to do different calculations during training and inference,\n",
    "# #         so we use this placeholder to tell the graph which behavior to use.\n",
    "#         self.is_training = tf.placeholder(tf.bool, name=\"is_training\")\n",
    "        \n",
    "        \n",
    "        self.a_dim, self.s_dim, self.a_bound = a_dim, s_dim, a_bound,\n",
    "        self.S = tf.placeholder(tf.float32, [None, s_dim], 's')\n",
    "        self.S_ = tf.placeholder(tf.float32, [None, s_dim], 's_')\n",
    "        self.R = tf.placeholder(tf.float32, [None, 1], 'r')\n",
    "\n",
    "        with tf.variable_scope('Actor'):\n",
    "            self.a = self.build_a_nn(self.S, scope='eval', trainable=True)\n",
    "            a_ = self.build_a_nn(self.S_, scope='target', trainable=False)\n",
    "        with tf.variable_scope('Critic'):\n",
    "            # assign self.a = a in memory when calculating q for td_error,\n",
    "            # otherwise the self.a is from Actor when updating Actor\n",
    "            q = self.build_c_nn(self.S, self.a, scope='eval', trainable=True)\n",
    "            q_ = self.build_c_nn(self.S_, a_, scope='target', trainable=False)\n",
    "\n",
    "        # networks parameters\n",
    "        self.ae_params = tf.get_collection(tf.GraphKeys.GLOBAL_VARIABLES, scope='Actor/eval')\n",
    "        self.at_params = tf.get_collection(tf.GraphKeys.GLOBAL_VARIABLES, scope='Actor/target')\n",
    "        self.ce_params = tf.get_collection(tf.GraphKeys.GLOBAL_VARIABLES, scope='Critic/eval')\n",
    "        self.ct_params = tf.get_collection(tf.GraphKeys.GLOBAL_VARIABLES, scope='Critic/target')\n",
    "\n",
    "        # target net replacement\n",
    "        self.soft_replace = [[tf.assign(at, (1-TAU)*at+TAU*ae), tf.assign(ct, (1-TAU)*ct+TAU*ce)]\n",
    "            for at, ae, ct, ce in zip(self.at_params, self.ae_params, self.ct_params, self.ce_params)]\n",
    "\n",
    "        q_target = self.R + GAMMA * q_\n",
    "        # in the feed_dic for the td_error, the self.a should change to actions in memory\n",
    "        td_error = tf.losses.mean_squared_error(labels=(self.R + GAMMA * q_), predictions=q)\n",
    "        \n",
    "        # If we don't include the update ops as dependencies on the train step, the \n",
    "        # tf.layers.batch_normalization layers won't update their population statistics,\n",
    "        # which will cause the model to fail at inference time\n",
    "        with tf.control_dependencies(tf.get_collection(tf.GraphKeys.UPDATE_OPS)):\n",
    "            self.ctrain = tf.train.AdamOptimizer(LR_C).minimize(td_error, name=\"adam-ink\", var_list = self.ce_params)\n",
    "\n",
    "        a_loss = - tf.reduce_mean(q)    # maximize the q\n",
    "        with tf.control_dependencies(tf.get_collection(tf.GraphKeys.UPDATE_OPS)):\n",
    "            self.atrain = tf.train.AdamOptimizer(LR_A).minimize(a_loss, var_list=self.ae_params)\n",
    "\n",
    "        tf.summary.FileWriter(\"logs/\", self.sess.graph)\n",
    "\n",
    "        if TRAIN:\n",
    "            self.sess.run(tf.global_variables_initializer())\n",
    "        else:\n",
    "            saver = tf.train.Saver()\n",
    "            model_path = \"./model_path/\"\n",
    "            # save_path = saver.save(ddpg.sess, model_path)\n",
    "            load_path = saver.restore(self.sess, model_path)\n",
    "\n",
    "    def choose_action(self, s):\n",
    "        \n",
    "#         mem_mean = np.array([ 0.48621982, -0.39433715,  0.55701429,  0.71694756,  0.93387568,\n",
    "#         0.37078592, -0.14167269,  0.40072495,  0.25386503,  0.4805119 ,\n",
    "#         0.09596774, -0.11102104,  0.16225703,  0.06218311,  0.19568023,\n",
    "#        -0.26812184,  0.48575708, -0.39573932,  0.55680048,  0.71941608,\n",
    "#         0.93555212,  0.37175739, -0.14246416,  0.40183851,  0.25530386,\n",
    "#         0.48238301], dtype=np.float32)\n",
    "        \n",
    "#         mem_std = np.array([ 0.77474898,  0.72022182,  0.56043774,  0.90410036,  0.12644294,\n",
    "#         0.24395365,  0.3367165 ,  0.20749338,  0.49386111,  0.27530244,\n",
    "#         0.13662679,  0.10744574,  0.08928268,  0.18348816,  0.02752163,\n",
    "#         0.06287373,  0.77596879,  0.72043914,  0.56105018,  0.90423542,\n",
    "#         0.11954755,  0.24412741,  0.3376236 ,  0.20702067,  0.49511331,\n",
    "#         0.27521592], dtype=np.float32)    \n",
    "    \n",
    "    \n",
    "#         s -= mem_mean[:self.s_dim]\n",
    "#         s /= mem_std[:self.s_dim]\n",
    "        \n",
    "        a = self.sess.run(self.a, {self.S: s[np.newaxis, :]})[0]\n",
    "        a = np.clip(np.random.normal(a, self.var), -2, 2)\n",
    "        \n",
    "#         a *= mem_std[self.s_dim: self.s_dim + self.a_dim]\n",
    "#         a += mem_mean[self.s_dim: self.s_dim + self.a_dim]\n",
    "\n",
    "        return a\n",
    "\n",
    "    def learn(self):\n",
    "        # soft target replacement\n",
    "        self.sess.run(self.soft_replace)\n",
    "\n",
    "        indices = np.random.choice(MEMORY_CAPACITY, size=BATCH_SIZE)\n",
    "        bt = self.memory[indices, :]\n",
    "        bs = bt[:, :self.s_dim]\n",
    "        ba = bt[:, self.s_dim: self.s_dim + self.a_dim]\n",
    "        br = bt[:, -self.s_dim - 1: -self.s_dim]\n",
    "        bs_ = bt[:, -self.s_dim:]\n",
    "\n",
    "        self.sess.run(self.ctrain, {self.S: bs, self.a: ba, self.R: br, self.S_: bs_})\n",
    "        self.sess.run(self.atrain, {self.S: bs})\n",
    "\n",
    "    def store_transition(self, s, a, r, s_):\n",
    "\n",
    "        trans = np.hstack((s,a,[r],s_))\n",
    "        \n",
    "#         # batch normalization\n",
    "#         mem_mean = np.array([ 0.48621982, -0.39433715,  0.55701429,  0.71694756,  0.93387568,\n",
    "#         0.37078592, -0.14167269,  0.40072495,  0.25386503,  0.4805119 ,\n",
    "#         0.09596774, -0.11102104,  0.16225703,  0.06218311,  0.19568023,\n",
    "#        -0.26812184,  0.48575708, -0.39573932,  0.55680048,  0.71941608,\n",
    "#         0.93555212,  0.37175739, -0.14246416,  0.40183851,  0.25530386,\n",
    "#         0.48238301], dtype=np.float32)\n",
    "        \n",
    "#         mem_std = np.array([ 0.77474898,  0.72022182,  0.56043774,  0.90410036,  0.12644294,\n",
    "#         0.24395365,  0.3367165 ,  0.20749338,  0.49386111,  0.27530244,\n",
    "#         0.13662679,  0.10744574,  0.08928268,  0.18348816,  0.02752163,\n",
    "#         0.06287373,  0.77596879,  0.72043914,  0.56105018,  0.90423542,\n",
    "#         0.11954755,  0.24412741,  0.3376236 ,  0.20702067,  0.49511331,\n",
    "#         0.27521592], dtype=np.float32)    \n",
    "        \n",
    "#         trans -= mem_mean\n",
    "#         trans /= mem_std\n",
    "        \n",
    "        \n",
    "        # print(\"trans: \", trans)\n",
    "        index = self.pointer % MEMORY_CAPACITY\n",
    "        self.memory[index, :] = trans\n",
    "        self.pointer += 1\n",
    "        \n",
    "        if TRAIN & ( self.pointer > MEMORY_CAPACITY ):\n",
    "            self.var *= 0.99995\n",
    "            self.learn()\n",
    "    def build_a_nn(self, s, scope, trainable):\n",
    "        # Actor DPG\n",
    "        with tf.variable_scope(scope):\n",
    "            s_norm = tf.layers.batch_normalization(s, trainable = trainable)\n",
    "            l1 = tf.layers.dense(s_norm, 30, activation = tf.nn.tanh, name = 'l1', trainable = trainable)\n",
    "            a = tf.layers.dense(l1, self.a_dim, activation = tf.nn.tanh, name = 'a', trainable = trainable)     \n",
    "            return tf.multiply(a, self.a_bound, name = \"scaled_a\")  \n",
    "    def build_c_nn(self, s, a, scope, trainable):\n",
    "        # Critic Q-leaning\n",
    "        with tf.variable_scope(scope):\n",
    "            n_l1 = 30\n",
    "            \n",
    "            w1_s = tf.get_variable('w1_s', [self.s_dim, n_l1], trainable = trainable)\n",
    "            w1_a = tf.get_variable('w1_a', [self.a_dim, n_l1], trainable = trainable)\n",
    "            b1 = tf.get_variable('b1', [1, n_l1], trainable = trainable)\n",
    "\n",
    "            s_norm = tf.layers.batch_normalization(s, trainable = trainable)\n",
    "            a_norm = tf.layers.batch_normalization(a, trainable = trainable)\n",
    "            linear_output = tf.matmul(s_norm, w1_s) + tf.matmul(a_norm, w1_a) + b1\n",
    "    \n",
    "    \n",
    "            net = tf.nn.tanh( linear_output )\n",
    "\n",
    "            q = tf.layers.dense(net, 1, trainable = trainable)\n",
    "            return q\n",
    "\n",
    "    \n",
    "###############################  training  ####################################\n",
    "\n",
    "env = manipulator.manipulator()\n",
    "# env = env.unwrapped\n",
    "# env.seed(1)\n",
    "\n",
    "s_dim = env.state_dim\n",
    "a_dim = env.action_dim\n",
    "a_bound = 0.2\n",
    "\n",
    "ddpg = DDPG(a_dim, s_dim, a_bound)\n",
    "\n",
    "r_save = []\n",
    "\n",
    "# var = 3  # control exploration\n"
   ]
  },
  {
   "cell_type": "code",
   "execution_count": 3,
   "metadata": {},
   "outputs": [],
   "source": [
    "MAX_EPISODES = 300"
   ]
  },
  {
   "cell_type": "code",
   "execution_count": 4,
   "metadata": {},
   "outputs": [
    {
     "name": "stdout",
     "output_type": "stream",
     "text": [
      "i:  0\n",
      "Episode: 0  Reward: -181 Explore: 3.00\n",
      "i:  1\n",
      "Episode: 1  Reward: -184 Explore: 3.00\n",
      "i:  2\n",
      "Episode: 2  Reward: -181 Explore: 3.00\n",
      "i:  3\n",
      "Episode: 3  Reward: -181 Explore: 3.00\n",
      "i:  4\n",
      "Episode: 4  Reward: -183 Explore: 3.00\n",
      "i:  5\n",
      "Episode: 5  Reward: -182 Explore: 3.00\n",
      "i:  6\n",
      "Episode: 6  Reward: -180 Explore: 3.00\n",
      "i:  7\n",
      "Episode: 7  Reward: -179 Explore: 3.00\n",
      "i:  8\n",
      "Episode: 8  Reward: -185 Explore: 3.00\n",
      "i:  9\n",
      "Episode: 9  Reward: -182 Explore: 3.00\n",
      "i:  10\n",
      "Episode: 10  Reward: -183 Explore: 3.00\n",
      "i:  11\n",
      "Episode: 11  Reward: -180 Explore: 3.00\n",
      "i:  12\n",
      "Episode: 12  Reward: -181 Explore: 3.00\n",
      "i:  13\n",
      "Episode: 13  Reward: -178 Explore: 3.00\n",
      "i:  14\n",
      "Episode: 14  Reward: -178 Explore: 3.00\n",
      "i:  15\n",
      "Episode: 15  Reward: -183 Explore: 3.00\n",
      "i:  16\n",
      "Episode: 16  Reward: -184 Explore: 3.00\n",
      "i:  17\n",
      "Episode: 17  Reward: -182 Explore: 3.00\n",
      "i:  18\n",
      "Episode: 18  Reward: -185 Explore: 3.00\n",
      "i:  19\n",
      "Episode: 19  Reward: -184 Explore: 3.00\n",
      "i:  20\n"
     ]
    },
    {
     "ename": "AttributeError",
     "evalue": "'DDPG' object has no attribute 'is_training'",
     "output_type": "error",
     "traceback": [
      "\u001b[0;31m---------------------------------------------------------------------------\u001b[0m",
      "\u001b[0;31mAttributeError\u001b[0m                            Traceback (most recent call last)",
      "\u001b[0;32m<ipython-input-4-9d3731351c60>\u001b[0m in \u001b[0;36m<module>\u001b[0;34m()\u001b[0m\n\u001b[1;32m     13\u001b[0m         \u001b[0ms_\u001b[0m\u001b[0;34m,\u001b[0m \u001b[0mr\u001b[0m\u001b[0;34m,\u001b[0m \u001b[0mdone\u001b[0m\u001b[0;34m,\u001b[0m \u001b[0minfo\u001b[0m \u001b[0;34m=\u001b[0m \u001b[0menv\u001b[0m\u001b[0;34m.\u001b[0m\u001b[0mstep\u001b[0m\u001b[0;34m(\u001b[0m\u001b[0ma\u001b[0m\u001b[0;34m)\u001b[0m\u001b[0;34m\u001b[0m\u001b[0m\n\u001b[1;32m     14\u001b[0m         \u001b[0;31m# print(\"r: \", r)\u001b[0m\u001b[0;34m\u001b[0m\u001b[0;34m\u001b[0m\u001b[0m\n\u001b[0;32m---> 15\u001b[0;31m         \u001b[0mddpg\u001b[0m\u001b[0;34m.\u001b[0m\u001b[0mstore_transition\u001b[0m\u001b[0;34m(\u001b[0m\u001b[0ms\u001b[0m\u001b[0;34m,\u001b[0m \u001b[0ma\u001b[0m\u001b[0;34m,\u001b[0m \u001b[0mr\u001b[0m\u001b[0;34m,\u001b[0m \u001b[0ms_\u001b[0m\u001b[0;34m)\u001b[0m\u001b[0;34m\u001b[0m\u001b[0m\n\u001b[0m\u001b[1;32m     16\u001b[0m \u001b[0;34m\u001b[0m\u001b[0m\n\u001b[1;32m     17\u001b[0m         \u001b[0;31m# if ddpg.pointer > MEMORY_CAPACITY:\u001b[0m\u001b[0;34m\u001b[0m\u001b[0;34m\u001b[0m\u001b[0m\n",
      "\u001b[0;32m<ipython-input-2-501940be03a4>\u001b[0m in \u001b[0;36mstore_transition\u001b[0;34m(self, s, a, r, s_)\u001b[0m\n\u001b[1;32m    163\u001b[0m         \u001b[0;32mif\u001b[0m \u001b[0mTRAIN\u001b[0m \u001b[0;34m&\u001b[0m \u001b[0;34m(\u001b[0m \u001b[0mself\u001b[0m\u001b[0;34m.\u001b[0m\u001b[0mpointer\u001b[0m \u001b[0;34m>\u001b[0m \u001b[0mMEMORY_CAPACITY\u001b[0m \u001b[0;34m)\u001b[0m\u001b[0;34m:\u001b[0m\u001b[0;34m\u001b[0m\u001b[0m\n\u001b[1;32m    164\u001b[0m             \u001b[0mself\u001b[0m\u001b[0;34m.\u001b[0m\u001b[0mvar\u001b[0m \u001b[0;34m*=\u001b[0m \u001b[0;36m0.99995\u001b[0m\u001b[0;34m\u001b[0m\u001b[0m\n\u001b[0;32m--> 165\u001b[0;31m             \u001b[0mself\u001b[0m\u001b[0;34m.\u001b[0m\u001b[0mlearn\u001b[0m\u001b[0;34m(\u001b[0m\u001b[0;34m)\u001b[0m\u001b[0;34m\u001b[0m\u001b[0m\n\u001b[0m\u001b[1;32m    166\u001b[0m     \u001b[0;32mdef\u001b[0m \u001b[0mbuild_a_nn\u001b[0m\u001b[0;34m(\u001b[0m\u001b[0mself\u001b[0m\u001b[0;34m,\u001b[0m \u001b[0ms\u001b[0m\u001b[0;34m,\u001b[0m \u001b[0mscope\u001b[0m\u001b[0;34m,\u001b[0m \u001b[0mtrainable\u001b[0m\u001b[0;34m)\u001b[0m\u001b[0;34m:\u001b[0m\u001b[0;34m\u001b[0m\u001b[0m\n\u001b[1;32m    167\u001b[0m         \u001b[0;31m# Actor DPG\u001b[0m\u001b[0;34m\u001b[0m\u001b[0;34m\u001b[0m\u001b[0m\n",
      "\u001b[0;32m<ipython-input-2-501940be03a4>\u001b[0m in \u001b[0;36mlearn\u001b[0;34m(self)\u001b[0m\n\u001b[1;32m    130\u001b[0m         \u001b[0mbs_\u001b[0m \u001b[0;34m=\u001b[0m \u001b[0mbt\u001b[0m\u001b[0;34m[\u001b[0m\u001b[0;34m:\u001b[0m\u001b[0;34m,\u001b[0m \u001b[0;34m-\u001b[0m\u001b[0mself\u001b[0m\u001b[0;34m.\u001b[0m\u001b[0ms_dim\u001b[0m\u001b[0;34m:\u001b[0m\u001b[0;34m]\u001b[0m\u001b[0;34m\u001b[0m\u001b[0m\n\u001b[1;32m    131\u001b[0m \u001b[0;34m\u001b[0m\u001b[0m\n\u001b[0;32m--> 132\u001b[0;31m         \u001b[0mself\u001b[0m\u001b[0;34m.\u001b[0m\u001b[0msess\u001b[0m\u001b[0;34m.\u001b[0m\u001b[0mrun\u001b[0m\u001b[0;34m(\u001b[0m\u001b[0mself\u001b[0m\u001b[0;34m.\u001b[0m\u001b[0mctrain\u001b[0m\u001b[0;34m,\u001b[0m \u001b[0;34m{\u001b[0m\u001b[0mself\u001b[0m\u001b[0;34m.\u001b[0m\u001b[0mS\u001b[0m\u001b[0;34m:\u001b[0m \u001b[0mbs\u001b[0m\u001b[0;34m,\u001b[0m \u001b[0mself\u001b[0m\u001b[0;34m.\u001b[0m\u001b[0ma\u001b[0m\u001b[0;34m:\u001b[0m \u001b[0mba\u001b[0m\u001b[0;34m,\u001b[0m \u001b[0mself\u001b[0m\u001b[0;34m.\u001b[0m\u001b[0mR\u001b[0m\u001b[0;34m:\u001b[0m \u001b[0mbr\u001b[0m\u001b[0;34m,\u001b[0m \u001b[0mself\u001b[0m\u001b[0;34m.\u001b[0m\u001b[0mS_\u001b[0m\u001b[0;34m:\u001b[0m \u001b[0mbs_\u001b[0m\u001b[0;34m,\u001b[0m \u001b[0mself\u001b[0m\u001b[0;34m.\u001b[0m\u001b[0mis_training\u001b[0m\u001b[0;34m:\u001b[0m \u001b[0;32mTrue\u001b[0m\u001b[0;34m}\u001b[0m\u001b[0;34m)\u001b[0m\u001b[0;34m\u001b[0m\u001b[0m\n\u001b[0m\u001b[1;32m    133\u001b[0m         \u001b[0mself\u001b[0m\u001b[0;34m.\u001b[0m\u001b[0msess\u001b[0m\u001b[0;34m.\u001b[0m\u001b[0mrun\u001b[0m\u001b[0;34m(\u001b[0m\u001b[0mself\u001b[0m\u001b[0;34m.\u001b[0m\u001b[0matrain\u001b[0m\u001b[0;34m,\u001b[0m \u001b[0;34m{\u001b[0m\u001b[0mself\u001b[0m\u001b[0;34m.\u001b[0m\u001b[0mS\u001b[0m\u001b[0;34m:\u001b[0m \u001b[0mbs\u001b[0m\u001b[0;34m,\u001b[0m \u001b[0mself\u001b[0m\u001b[0;34m.\u001b[0m\u001b[0mis_training\u001b[0m\u001b[0;34m:\u001b[0m \u001b[0;32mTrue\u001b[0m\u001b[0;34m}\u001b[0m\u001b[0;34m)\u001b[0m\u001b[0;34m\u001b[0m\u001b[0m\n\u001b[1;32m    134\u001b[0m \u001b[0;34m\u001b[0m\u001b[0m\n",
      "\u001b[0;31mAttributeError\u001b[0m: 'DDPG' object has no attribute 'is_training'"
     ]
    }
   ],
   "source": [
    "for i in range(MAX_EPISODES):\n",
    "    print(\"i: \", i)\n",
    "    s = env.reset()\n",
    "    ep_reward = 0\n",
    "    for j in range(MAX_EP_STEPS):\n",
    "        if RENDER:\n",
    "            env.render()\n",
    "\n",
    "        # Add exploration noise\n",
    "        a = ddpg.choose_action(s)\n",
    "        # a = np.clip(np.random.normal(a, var), -2, 2)    # add randomness to action selection for exploration\n",
    "        # print(\"a: \", a)\n",
    "        s_, r, done, info = env.step(a)\n",
    "        # print(\"r: \", r)\n",
    "        ddpg.store_transition(s, a, r, s_)\n",
    "\n",
    "        # if ddpg.pointer > MEMORY_CAPACITY:\n",
    "        #     ddpg.var *= .9995    # decay the action randomness\n",
    "        #     ddpg.learn()\n",
    "\n",
    "        s = s_\n",
    "        ep_reward += r\n",
    "\n",
    "        \n",
    "\n",
    "        if j == MAX_EP_STEPS-1:\n",
    "            r_save.append(ep_reward)\n",
    "            print('Episode:', i, ' Reward: %i' % int(ep_reward), 'Explore: %.2f' % ddpg.var, )\n",
    "            # if ep_reward > -300:RENDER = True\n",
    "            break\n"
   ]
  },
  {
   "cell_type": "markdown",
   "metadata": {},
   "source": [
    "np.save(\"memory-action_dim5-norm\", ddpg.memory)"
   ]
  },
  {
   "cell_type": "code",
   "execution_count": 5,
   "metadata": {},
   "outputs": [],
   "source": [
    "import numpy as np\n",
    "\n",
    "%matplotlib inline\n",
    "import matplotlib.pyplot as plt"
   ]
  },
  {
   "cell_type": "code",
   "execution_count": 6,
   "metadata": {},
   "outputs": [],
   "source": [
    "all_reward = r_save[:300]"
   ]
  },
  {
   "cell_type": "code",
   "execution_count": 7,
   "metadata": {},
   "outputs": [
    {
     "data": {
      "image/png": "[encoded data removed]",
      "text/plain": [
       "<matplotlib.figure.Figure at 0x7f937b2ca8d0>"
      ]
     },
     "metadata": {},
     "output_type": "display_data"
    }
   ],
   "source": [
    "fig = plt.figure()\n",
    "ax = fig.add_subplot(111)\n",
    "# ax.plot([1, 2, 3, 4], [10, 20, 25, 30], color='lightblue', linewidth=3) # plot line\n",
    "ax.scatter(range(len(all_reward)), all_reward, color='green', marker='^') # plot points\n",
    "# ax.set_xlim(0.5, 4.5)\n",
    "plt.show()"
   ]
  },
  {
   "cell_type": "code",
   "execution_count": 15,
   "metadata": {},
   "outputs": [
    {
     "data": {
      "image/png": "[encoded data removed]",
      "text/plain": [
       "<matplotlib.figure.Figure at 0x7f7434508a58>"
      ]
     },
     "metadata": {},
     "output_type": "display_data"
    }
   ],
   "source": [
    "fig = plt.figure()\n",
    "ax = fig.add_subplot(111)\n",
    "# ax.plot([1, 2, 3, 4], [10, 20, 25, 30], color='lightblue', linewidth=3) # plot line\n",
    "ax.scatter(range(len(all_reward)), all_reward, color='green', marker='^') # plot points\n",
    "# ax.set_xlim(0.5, 4.5)\n",
    "plt.show()"
   ]
  },
  {
   "cell_type": "code",
   "execution_count": 7,
   "metadata": {},
   "outputs": [
    {
     "data": {
      "image/png": "[encoded data removed]",
      "text/plain": [
       "<matplotlib.figure.Figure at 0x7f748436afd0>"
      ]
     },
     "metadata": {},
     "output_type": "display_data"
    }
   ],
   "source": [
    "fig = plt.figure()\n",
    "ax = fig.add_subplot(111)\n",
    "# ax.plot([1, 2, 3, 4], [10, 20, 25, 30], color='lightblue', linewidth=3) # plot line\n",
    "ax.scatter(range(len(all_reward)), all_reward, color='green', marker='^') # plot points\n",
    "# ax.set_xlim(0.5, 4.5)\n",
    "plt.show()"
   ]
  },
  {
   "cell_type": "code",
   "execution_count": null,
   "metadata": {},
   "outputs": [],
   "source": []
  },
  {
   "cell_type": "markdown",
   "metadata": {},
   "source": [
    "$ rx, ry, rz = 0.2, -0.2, 0.08 $ (Without normalization.)\n",
    "\n",
    "<img src=\"img/0.2--0.2-0.08-no-norm.png\">\n",
    "\n",
    "$ rx, ry, rz = -0.2, -0.1, 0.08 $ (Without normalization.)\n",
    "\n",
    "<img src=\"img/-0.2--0.1-0.08-no-norm.png\">\n",
    "\n",
    "$ rx, ry, rz = -0.2, -0.1, 0.08 $ (With normalization, but the paramethers for normalization is not resonable.)\n",
    "\n",
    "<img src=\"img/-0.2--0.1-0.08.png\">\n",
    "\n",
    "$ rx, ry, rz = -0.0, 0.1, 0.28 $ (Without normalization.)\n",
    "\n",
    "<img src=\"img/-0.0-0.1-0.28-no-norm.png\">\n",
    "\n",
    "$ rx, ry, rz = -0.0, 0.1, 0.28 $ (With normalization, but the paramethers for normalization is not resonable.)\n",
    "\n",
    "<img src=\"img/-0.0-0.1-0.28.png\">"
   ]
  },
  {
   "cell_type": "code",
   "execution_count": null,
   "metadata": {},
   "outputs": [],
   "source": []
  },
  {
   "cell_type": "code",
   "execution_count": 8,
   "metadata": {},
   "outputs": [
    {
     "name": "stdout",
     "output_type": "stream",
     "text": [
      "INFO:tensorflow:Restoring parameters from ./model_path/\n"
     ]
    }
   ],
   "source": [
    "saver = tf.train.Saver()\n",
    "model_path = \"./model_path/\"\n",
    "save_path = saver.save(ddpg.sess, model_path)\n",
    "load_path = saver.restore(ddpg.sess, model_path)"
   ]
  },
  {
   "cell_type": "code",
   "execution_count": null,
   "metadata": {},
   "outputs": [],
   "source": []
  },
  {
   "cell_type": "markdown",
   "metadata": {},
   "source": [
    "origin-state-without-norm.png\n",
    "\n",
    "<img src=\"img/origin-state-without-norm.png\" >\n",
    "\n",
    "action-dim5-norm.png\n",
    "\n",
    "<img src=\"img/action-dim5-norm.png\" >"
   ]
  },
  {
   "cell_type": "code",
   "execution_count": null,
   "metadata": {},
   "outputs": [],
   "source": []
  }
 ],
 "metadata": {
  "kernelspec": {
   "display_name": "Python 3",
   "language": "python",
   "name": "python3"
  },
  "language_info": {
   "codemirror_mode": {
    "name": "ipython",
    "version": 3
   },
   "file_extension": ".py",
   "mimetype": "text/x-python",
   "name": "python",
   "nbconvert_exporter": "python",
   "pygments_lexer": "ipython3",
   "version": "3.5.2"
  }
 },
 "nbformat": 4,
 "nbformat_minor": 2
}
