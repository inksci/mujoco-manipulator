{
 "cells": [
  {
   "cell_type": "code",
   "execution_count": 10,
   "metadata": {},
   "outputs": [],
   "source": [
    "import numpy as np\n",
    "\n",
    "%matplotlib inline\n",
    "import matplotlib.pyplot as plt"
   ]
  },
  {
   "cell_type": "code",
   "execution_count": 3,
   "metadata": {},
   "outputs": [],
   "source": [
    "A = np.array( [1,4,6,3,7,3,2] )"
   ]
  },
  {
   "cell_type": "code",
   "execution_count": 5,
   "metadata": {},
   "outputs": [
    {
     "data": {
      "text/plain": [
       "3.9183673469387759"
      ]
     },
     "execution_count": 5,
     "metadata": {},
     "output_type": "execute_result"
    }
   ],
   "source": [
    "( sum(A**2)-7*np.mean(A)**2 )/7"
   ]
  },
  {
   "cell_type": "code",
   "execution_count": 7,
   "metadata": {},
   "outputs": [
    {
     "data": {
      "text/plain": [
       "3.9183673469387754"
      ]
     },
     "execution_count": 7,
     "metadata": {},
     "output_type": "execute_result"
    }
   ],
   "source": [
    "np.var(A)"
   ]
  },
  {
   "cell_type": "code",
   "execution_count": 8,
   "metadata": {},
   "outputs": [
    {
     "data": {
      "text/plain": [
       "1.979486637221574"
      ]
     },
     "execution_count": 8,
     "metadata": {},
     "output_type": "execute_result"
    }
   ],
   "source": [
    "np.std(A)"
   ]
  },
  {
   "cell_type": "code",
   "execution_count": 9,
   "metadata": {},
   "outputs": [
    {
     "data": {
      "text/plain": [
       "1.979486637221574"
      ]
     },
     "execution_count": 9,
     "metadata": {},
     "output_type": "execute_result"
    }
   ],
   "source": [
    "np.sqrt( np.var(A) )"
   ]
  },
  {
   "cell_type": "code",
   "execution_count": 11,
   "metadata": {},
   "outputs": [],
   "source": [
    "mem = np.load(\"memory-action18.npy\")"
   ]
  },
  {
   "cell_type": "code",
   "execution_count": 41,
   "metadata": {},
   "outputs": [
    {
     "data": {
      "text/plain": [
       "(10000, 26)"
      ]
     },
     "execution_count": 41,
     "metadata": {},
     "output_type": "execute_result"
    }
   ],
   "source": [
    "mem.shape"
   ]
  },
  {
   "cell_type": "code",
   "execution_count": 12,
   "metadata": {},
   "outputs": [],
   "source": [
    "A1 = np.mean(mem, axis=0)"
   ]
  },
  {
   "cell_type": "code",
   "execution_count": 13,
   "metadata": {},
   "outputs": [],
   "source": [
    "A2 = np.std(mem, axis=0)"
   ]
  },
  {
   "cell_type": "code",
   "execution_count": 15,
   "metadata": {},
   "outputs": [
    {
     "name": "stdout",
     "output_type": "stream",
     "text": [
      "[-0.30596643686294556, 0.6531972885131836, 0.07150639593601227, -0.4814097285270691, -0.9779564738273621, -0.1355571746826172, 0.361149400472641, 0.1673995554447174, -0.33002352714538574, -0.4877714216709137, -0.3059367537498474, 0.6378231644630432, 0.1766030341386795, -0.7159786820411682, -0.9878270626068115, 0.19998057186603546, -0.19998057186603546, 0.09049104899168015, -0.052024029195308685, 0.12978997826576233, 0.02930569089949131, -0.1457349807024002, -0.1941746175289154, -0.19394275546073914, -0.3071609139442444, 0.654149055480957, 0.07036503404378891, -0.4808672368526459, -0.9798941612243652, -0.13617150485515594, 0.3624577522277832, 0.1675402969121933, -0.33098533749580383, -0.4897313117980957, -0.3071301579475403, 0.6387059688568115, 0.17597635090351105, -0.7166529297828674, -0.989827036857605, 0.19998057186603546, -0.19998057186603546, 0.09049104899168015] [0.8033351898193359, 0.5680350065231323, 0.8028296232223511, 0.789441704750061, 0.08707397431135178, 0.40394535660743713, 0.28473415970802307, 0.34262776374816895, 0.3564625084400177, 0.2858351767063141, 0.8037617206573486, 0.5734468102455139, 0.856696605682373, 0.6527989506721497, 0.08459825068712234, 1.9432218323345296e-05, 1.9432218323345296e-05, 0.028779448941349983, 0.16029109060764313, 0.11157218366861343, 0.17511923611164093, 0.13185659050941467, 0.05517452210187912, 0.05518483370542526, 0.8039249181747437, 0.568067729473114, 0.8037550449371338, 0.7909086346626282, 0.07530832290649414, 0.4052116870880127, 0.2851526737213135, 0.3434385359287262, 0.3570743203163147, 0.2858463227748871, 0.8042926788330078, 0.5735509395599365, 0.8577484488487244, 0.6535053253173828, 0.07212276011705399, 1.9432218323345296e-05, 1.9432218323345296e-05, 0.028779448941349983]\n"
     ]
    }
   ],
   "source": [
    "print(A1.tolist(), A2.tolist())"
   ]
  },
  {
   "cell_type": "code",
   "execution_count": 16,
   "metadata": {},
   "outputs": [],
   "source": [
    "import matplotlib.pyplot as plt\n",
    "%matplotlib inline"
   ]
  },
  {
   "cell_type": "code",
   "execution_count": 18,
   "metadata": {},
   "outputs": [
    {
     "data": {
      "image/png": "[encoded data removed]",
      "text/plain": [
       "<matplotlib.figure.Figure at 0x7f9f2001b6d8>"
      ]
     },
     "metadata": {},
     "output_type": "display_data"
    }
   ],
   "source": [
    "plt.plot(np.array(A1).reshape(-1), 'r.', label='Loss')\n",
    "plt.title('Loss per Generation')\n",
    "plt.xlabel('Generation')\n",
    "plt.ylabel('Loss')\n",
    "plt.legend(loc='upper right')\n",
    "plt.show()"
   ]
  },
  {
   "cell_type": "code",
   "execution_count": 19,
   "metadata": {},
   "outputs": [
    {
     "data": {
      "image/png": "[encoded data removed]",
      "text/plain": [
       "<matplotlib.figure.Figure at 0x7f9f18ce27f0>"
      ]
     },
     "metadata": {},
     "output_type": "display_data"
    }
   ],
   "source": [
    "plt.plot(np.array(A2).reshape(-1), 'r.', label='Loss')\n",
    "plt.title('Loss per Generation')\n",
    "plt.xlabel('Generation')\n",
    "plt.ylabel('Loss')\n",
    "plt.legend(loc='upper right')\n",
    "plt.show()"
   ]
  },
  {
   "cell_type": "markdown",
   "metadata": {},
   "source": [
    "## Once More"
   ]
  },
  {
   "cell_type": "code",
   "execution_count": 16,
   "metadata": {},
   "outputs": [],
   "source": [
    "mem = np.load(\"memory-1.npy\")"
   ]
  },
  {
   "cell_type": "code",
   "execution_count": 19,
   "metadata": {},
   "outputs": [],
   "source": [
    "A1 = np.mean(mem, axis=0)"
   ]
  },
  {
   "cell_type": "code",
   "execution_count": 20,
   "metadata": {},
   "outputs": [],
   "source": [
    "A2 = np.std(mem, axis=0)"
   ]
  },
  {
   "cell_type": "code",
   "execution_count": 24,
   "metadata": {},
   "outputs": [],
   "source": [
    "B1 = mem[:10]"
   ]
  },
  {
   "cell_type": "code",
   "execution_count": 25,
   "metadata": {
    "scrolled": true
   },
   "outputs": [
    {
     "name": "stdout",
     "output_type": "stream",
     "text": [
      "(array([[  0.00000000e+00,   0.00000000e+00,   0.00000000e+00,\n",
      "          0.00000000e+00,   1.39897597e+00,  -1.36373508e+00,\n",
      "         -3.65684301e-01,   1.29892135e+00,  -1.26796627e+00,\n",
      "          2.59784260e-03,  -2.53593270e-03],\n",
      "       [  1.29892135e+00,  -1.26796627e+00,   2.59784260e-03,\n",
      "         -2.53593270e-03,  -1.28299654e+00,   1.05998743e+00,\n",
      "         -3.65795493e-01,   1.59794018e-02,  -2.03799590e-01,\n",
      "          2.62980140e-03,  -2.94353184e-03],\n",
      "       [  1.59794018e-02,  -2.03799590e-01,   2.62980140e-03,\n",
      "         -2.94353184e-03,   1.33510008e-01,   4.97164160e-01,\n",
      "         -3.65829170e-01,   1.49490431e-01,   2.93279588e-01,\n",
      "          2.92878225e-03,  -2.35697255e-03],\n",
      "       [  1.49490431e-01,   2.93279588e-01,   2.92878225e-03,\n",
      "         -2.35697255e-03,  -1.41266251e+00,   1.41564393e+00,\n",
      "         -3.65766466e-01,  -1.16321802e+00,   1.60403621e+00,\n",
      "          6.02346263e-04,   8.51099845e-04],\n",
      "       [ -1.16321802e+00,   1.60403621e+00,   6.02346263e-04,\n",
      "          8.51099845e-04,   4.27877933e-01,   9.39611077e-01,\n",
      "         -3.65586221e-01,  -7.35361040e-01,   2.44052434e+00,\n",
      "         -8.68375821e-04,   5.73214889e-03],\n",
      "       [ -7.35361040e-01,   2.44052434e+00,  -8.68375821e-04,\n",
      "          5.73214889e-03,  -2.95703746e-02,   6.77158237e-01,\n",
      "         -3.65224659e-01,  -7.64994621e-01,   3.01378918e+00,\n",
      "         -2.39836494e-03,   1.17597273e-02],\n",
      "       [ -7.64994621e-01,   3.01378918e+00,  -2.39836494e-03,\n",
      "          1.17597273e-02,  -3.64823103e-01,   2.81351596e-01,\n",
      "         -3.64763230e-01,  -1.02995110e+00,   3.19322252e+00,\n",
      "         -4.45826724e-03,   1.81461722e-02],\n",
      "       [ -1.02995110e+00,   3.19322252e+00,  -4.45826724e-03,\n",
      "          1.81461722e-02,   2.00000000e+00,   9.31950092e-01,\n",
      "         -3.64288121e-01,   9.70721364e-01,   4.01816797e+00,\n",
      "         -2.51682452e-03,   2.61825081e-02],\n",
      "       [  9.70721364e-01,   4.01816797e+00,  -2.51682452e-03,\n",
      "          2.61825081e-02,  -9.52917188e-02,   9.03460681e-01,\n",
      "         -3.63502502e-01,   8.75596702e-01,   4.81358385e+00,\n",
      "         -7.65631092e-04,   3.58096771e-02],\n",
      "       [  8.75596702e-01,   4.81358385e+00,  -7.65631092e-04,\n",
      "          3.58096771e-02,  -1.98819530e+00,  -3.85755569e-01,\n",
      "         -3.62577975e-01,  -1.01394367e+00,   4.33312845e+00,\n",
      "         -2.79351836e-03,   4.44759317e-02]], dtype=float32), array([ 5.69844151,  0.63114113,  1.20787513,  0.42712295,  0.0645458 ,\n",
      "        0.01444523, -0.23346819,  5.70642853,  0.6147241 ,  1.21928775,\n",
      "        0.42835155], dtype=float32))\n"
     ]
    }
   ],
   "source": [
    "print(B1, A1)"
   ]
  },
  {
   "cell_type": "code",
   "execution_count": 27,
   "metadata": {
    "collapsed": true
   },
   "outputs": [
    {
     "data": {
      "text/plain": [
       "array([[-5.69844151, -0.63114113, -1.20787513, -0.42712295,  1.33443022,\n",
       "        -1.37818027, -0.13221611, -4.40750694, -1.88269043, -1.21668994,\n",
       "        -0.43088749],\n",
       "       [-4.39951992, -1.89910746, -1.20527732, -0.42965889, -1.34754229,\n",
       "         1.04554224, -0.1323273 , -5.69044924, -0.81852371, -1.216658  ,\n",
       "        -0.4312951 ],\n",
       "       [-5.68246222, -0.83494073, -1.20524538, -0.4300665 ,  0.06896421,\n",
       "         0.48271891, -0.13236098, -5.55693817, -0.32144451, -1.21635902,\n",
       "        -0.43070853],\n",
       "       [-5.54895115, -0.33786154, -1.2049464 , -0.42947993, -1.47720826,\n",
       "         1.40119874, -0.13229828, -6.86964655,  0.98931211, -1.21868539,\n",
       "        -0.42750046],\n",
       "       [-6.86165953,  0.97289509, -1.20727277, -0.42627186,  0.36333215,\n",
       "         0.92516583, -0.13211803, -6.44178963,  1.82580018, -1.22015607,\n",
       "        -0.4226194 ],\n",
       "       [-6.4338026 ,  1.80938315, -1.20874345, -0.4213908 , -0.09411617,\n",
       "         0.66271299, -0.13175647, -6.47142315,  2.39906502, -1.22168612,\n",
       "        -0.41659182],\n",
       "       [-6.46343613,  2.38264799, -1.2102735 , -0.41536322, -0.42936891,\n",
       "         0.26690635, -0.13129504, -6.73637962,  2.57849836, -1.22374606,\n",
       "        -0.41020536],\n",
       "       [-6.7283926 ,  2.56208134, -1.21233344, -0.40897679,  1.93545425,\n",
       "         0.91750485, -0.13081993, -4.73570728,  3.40344381, -1.22180462,\n",
       "        -0.40216905],\n",
       "       [-4.72772026,  3.38702679, -1.210392  , -0.40094045, -0.15983751,\n",
       "         0.88901544, -0.13003431, -4.830832  ,  4.19885969, -1.22005343,\n",
       "        -0.39254189],\n",
       "       [-4.82284498,  4.18244267, -1.20864081, -0.39131328, -2.05274105,\n",
       "        -0.40020081, -0.12910978, -6.7203722 ,  3.71840429, -1.2220813 ,\n",
       "        -0.38387561]], dtype=float32)"
      ]
     },
     "execution_count": 27,
     "metadata": {},
     "output_type": "execute_result"
    }
   ],
   "source": [
    "B1-A1"
   ]
  },
  {
   "cell_type": "code",
   "execution_count": 28,
   "metadata": {},
   "outputs": [],
   "source": [
    "C1 = (mem - A1)/A2"
   ]
  },
  {
   "cell_type": "markdown",
   "metadata": {},
   "source": [
    "print(A1, A2) action-dim = 2\n",
    "\n",
    ">(array([ 5.69844151,  0.63114113,  1.20787513,  0.42712295,  0.0645458 ,\n",
    "        0.01444523, -0.23346819,  5.70642853,  0.6147241 ,  1.21928775,\n",
    "        0.42835155], dtype=float32), array([ 7.11894846,  6.20142508,  1.34930158,  0.88119268,  0.87189382,\n",
    "        0.87317526,  0.09533075,  7.12962151,  6.21958685,  1.35649014,\n",
    "        0.88734961], dtype=float32))\n",
    "        \n",
    "\n",
    "print(A1, A2) action-dim = 5\n",
    ">(array([ 0.48621982, -0.39433715,  0.55701429,  0.71694756,  0.93387568,\n",
    "        0.37078592, -0.14167269,  0.40072495,  0.25386503,  0.4805119 ,\n",
    "        0.09596774, -0.11102104,  0.16225703,  0.06218311,  0.19568023,\n",
    "       -0.26812184,  0.48575708, -0.39573932,  0.55680048,  0.71941608,\n",
    "        0.93555212,  0.37175739, -0.14246416,  0.40183851,  0.25530386,\n",
    "        0.48238301], dtype=float32), array([ 0.77474898,  0.72022182,  0.56043774,  0.90410036,  0.12644294,\n",
    "        0.24395365,  0.3367165 ,  0.20749338,  0.49386111,  0.27530244,\n",
    "        0.13662679,  0.10744574,  0.08928268,  0.18348816,  0.02752163,\n",
    "        0.06287373,  0.77596879,  0.72043914,  0.56105018,  0.90423542,\n",
    "        0.11954755,  0.24412741,  0.3376236 ,  0.20702067,  0.49511331,\n",
    "        0.27521592], dtype=float32))\n",
    "\n",
    "\n",
    "memory-action_dim5-steps1000\n",
    "\n",
    "(array([  0.18452059,  -0.35890538,  -1.66553736,  -0.2750107 ,\n",
    "       -17.13754082,   8.63690853,  -5.95179653,   1.80495787,\n",
    "         3.63679147,   3.20397258,   0.08991496,   0.1359086 ,\n",
    "         0.0581659 ,  -0.10008208,   0.19316533,   1.05010045,\n",
    "         0.63001388,  -0.6520322 ,  -0.37566116,   0.4660019 ,\n",
    "        -1.31206155,   2.48003078,  -2.14276052,   0.77497691,\n",
    "         2.04645395,   1.36186349], dtype=float32), array([  0.10842372,   0.26727387,   1.33274329,   0.70855492,\n",
    "        10.66058445,   9.48642063,   4.19362545,   4.67959213,\n",
    "         3.23121285,   5.86314869,   0.17379682,   0.13795905,\n",
    "         0.18436897,   0.1676985 ,   0.04388477,   1.02400482,\n",
    "         0.073884  ,   0.18871291,   0.74613923,   0.63973379,\n",
    "         1.41082799,   2.31257629,   1.40827286,   0.96961248,\n",
    "         1.59099591,   1.61366057], dtype=float32))"
   ]
  },
  {
   "cell_type": "markdown",
   "metadata": {},
   "source": [
    "## The Difference of Mean and Std Values"
   ]
  },
  {
   "cell_type": "code",
   "execution_count": 45,
   "metadata": {},
   "outputs": [],
   "source": [
    "C1 = np.array([ 0.48621982, -0.39433715,  0.55701429,  0.71694756,  0.93387568,\n",
    "        0.37078592, -0.14167269,  0.40072495,  0.25386503,  0.4805119 ,\n",
    "        0.09596774, -0.11102104,  0.16225703,  0.06218311,  0.19568023,\n",
    "       -0.26812184,  0.48575708, -0.39573932,  0.55680048,  0.71941608,\n",
    "        0.93555212,  0.37175739, -0.14246416,  0.40183851,  0.25530386,\n",
    "        0.48238301], dtype=np.float32)\n",
    "C2 = np.array([ 0.77474898,  0.72022182,  0.56043774,  0.90410036,  0.12644294,\n",
    "        0.24395365,  0.3367165 ,  0.20749338,  0.49386111,  0.27530244,\n",
    "        0.13662679,  0.10744574,  0.08928268,  0.18348816,  0.02752163,\n",
    "        0.06287373,  0.77596879,  0.72043914,  0.56105018,  0.90423542,\n",
    "        0.11954755,  0.24412741,  0.3376236 ,  0.20702067,  0.49511331,\n",
    "        0.27521592], dtype=np.float32)\n",
    "\n",
    "D1 = np.array([  0.18452059,  -0.35890538,  -1.66553736,  -0.2750107 ,\n",
    "       -17.13754082,   8.63690853,  -5.95179653,   1.80495787,\n",
    "         3.63679147,   3.20397258,   0.08991496,   0.1359086 ,\n",
    "         0.0581659 ,  -0.10008208,   0.19316533,   1.05010045,\n",
    "         0.63001388,  -0.6520322 ,  -0.37566116,   0.4660019 ,\n",
    "        -1.31206155,   2.48003078,  -2.14276052,   0.77497691,\n",
    "         2.04645395,   1.36186349], dtype=np.float32)\n",
    "D2 = np.array([  0.10842372,   0.26727387,   1.33274329,   0.70855492,\n",
    "        10.66058445,   9.48642063,   4.19362545,   4.67959213,\n",
    "         3.23121285,   5.86314869,   0.17379682,   0.13795905,\n",
    "         0.18436897,   0.1676985 ,   0.04388477,   1.02400482,\n",
    "         0.073884  ,   0.18871291,   0.74613923,   0.63973379,\n",
    "         1.41082799,   2.31257629,   1.40827286,   0.96961248,\n",
    "         1.59099591,   1.61366057], dtype=np.float32)"
   ]
  },
  {
   "cell_type": "code",
   "execution_count": 48,
   "metadata": {},
   "outputs": [],
   "source": [
    "E1 = C1 - D1"
   ]
  },
  {
   "cell_type": "code",
   "execution_count": 49,
   "metadata": {},
   "outputs": [],
   "source": [
    "all_reward = E1"
   ]
  },
  {
   "cell_type": "code",
   "execution_count": 50,
   "metadata": {},
   "outputs": [
    {
     "data": {
      "image/png": "[encoded data removed]",
      "text/plain": [
       "<matplotlib.figure.Figure at 0x7fc896db52d0>"
      ]
     },
     "metadata": {},
     "output_type": "display_data"
    }
   ],
   "source": [
    "fig = plt.figure()\n",
    "ax = fig.add_subplot(111)\n",
    "# ax.plot([1, 2, 3, 4], [10, 20, 25, 30], color='lightblue', linewidth=3) # plot line\n",
    "ax.scatter(range(len(all_reward)), all_reward, color='green', marker='^') # plot points\n",
    "# ax.set_xlim(0.5, 4.5)\n",
    "plt.show()"
   ]
  },
  {
   "cell_type": "code",
   "execution_count": 51,
   "metadata": {},
   "outputs": [],
   "source": [
    "E2 = C2 - D2"
   ]
  },
  {
   "cell_type": "code",
   "execution_count": 52,
   "metadata": {},
   "outputs": [],
   "source": [
    "all_reward = E2"
   ]
  },
  {
   "cell_type": "code",
   "execution_count": 53,
   "metadata": {},
   "outputs": [
    {
     "data": {
      "image/png": "[encoded data removed]",
      "text/plain": [
       "<matplotlib.figure.Figure at 0x7fc8938d1890>"
      ]
     },
     "metadata": {},
     "output_type": "display_data"
    }
   ],
   "source": [
    "fig = plt.figure()\n",
    "ax = fig.add_subplot(111)\n",
    "# ax.plot([1, 2, 3, 4], [10, 20, 25, 30], color='lightblue', linewidth=3) # plot line\n",
    "ax.scatter(range(len(all_reward)), all_reward, color='green', marker='^') # plot points\n",
    "# ax.set_xlim(0.5, 4.5)\n",
    "plt.show()"
   ]
  },
  {
   "cell_type": "code",
   "execution_count": null,
   "metadata": {},
   "outputs": [],
   "source": []
  },
  {
   "cell_type": "markdown",
   "metadata": {},
   "source": [
    "```\n",
    "np.clip(np.random.normal(a, var), -2, 2) \n",
    "```"
   ]
  },
  {
   "cell_type": "code",
   "execution_count": 56,
   "metadata": {},
   "outputs": [
    {
     "name": "stdout",
     "output_type": "stream",
     "text": [
      "-1.19268324403\n",
      "2.0\n"
     ]
    }
   ],
   "source": [
    "for a, var in [1,2], [2,3]:\n",
    "    print( np.clip(np.random.normal(a, var), -2, 2) )"
   ]
  },
  {
   "cell_type": "code",
   "execution_count": null,
   "metadata": {},
   "outputs": [],
   "source": []
  }
 ],
 "metadata": {
  "kernelspec": {
   "display_name": "Python 3",
   "language": "python",
   "name": "python3"
  },
  "language_info": {
   "codemirror_mode": {
    "name": "ipython",
    "version": 3
   },
   "file_extension": ".py",
   "mimetype": "text/x-python",
   "name": "python",
   "nbconvert_exporter": "python",
   "pygments_lexer": "ipython3",
   "version": "3.5.2"
  }
 },
 "nbformat": 4,
 "nbformat_minor": 2
}
